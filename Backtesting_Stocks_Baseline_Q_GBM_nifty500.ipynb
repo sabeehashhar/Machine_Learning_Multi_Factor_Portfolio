{
 "cells": [
  {
   "cell_type": "code",
   "execution_count": 1,
   "metadata": {},
   "outputs": [
    {
     "name": "stderr",
     "output_type": "stream",
     "text": [
      "C:\\Anaconda3\\envs\\myquant2\\lib\\site-packages\\ffn\\core.py:27: MatplotlibDeprecationWarning: The 'warn' parameter of use() is deprecated since Matplotlib 3.1 and will be removed in 3.3.  If any parameter follows 'warn', they should be pass as keyword, not positionally.\n",
      "  matplotlib.use('agg', warn=False)\n",
      "C:\\Anaconda3\\envs\\myquant2\\lib\\site-packages\\pandas_datareader\\compat\\__init__.py:7: FutureWarning: pandas.util.testing is deprecated. Use the functions in the public API at pandas.testing instead.\n",
      "  from pandas.util.testing import assert_frame_equal\n"
     ]
    }
   ],
   "source": [
    "import sys\n",
    "sys.path.insert(0, \"./ffn-master/\")\n",
    "import ffn\n",
    "import bt\n",
    "import pandas as pd\n",
    "import numpy as np\n",
    "import matplotlib.pyplot as plt\n",
    "%matplotlib inline\n",
    "plt.style.use('ggplot')\n",
    "from datetime import timedelta\n",
    "import warnings\n",
    "warnings.filterwarnings('ignore')\n",
    "from pypfopt.efficient_frontier import EfficientFrontier\n",
    "from pypfopt import risk_models\n",
    "from pypfopt import expected_returns\n",
    "import json"
   ]
  },
  {
   "cell_type": "code",
   "execution_count": 2,
   "metadata": {},
   "outputs": [
    {
     "data": {
      "text/plain": [
       "Index(['Unnamed: 0', 'Unnamed: 0.1', 'Company Name', 'Industry', 'Symbol',\n",
       "       'Date', 'Open', 'High', 'Low', 'Close', 'Adj Close', 'Volume',\n",
       "       'Share_Turnover', 'Return', 'Momentum', 'Mom_Sharpe', 'Mom_Gain_Loss',\n",
       "       'Mom_Slope', 'StDev', 'Liquidity', 'Volatility', 'NSE500', 'CAPM_Beta',\n",
       "       'CAPM_Alpha', 'Sector_Return', 'Sector_Momentum', 'EPS in Rs',\n",
       "       'Net Profit', 'Sales', 'Sales_Growth', 'OPM_Growth', 'EPS_Growth',\n",
       "       'Open_Shares', 'Promoters', 'FIIs', 'DIIs', 'Public', 'Promoters%',\n",
       "       'DIIs%', 'FIIs%', 'Public%', 'EPS', 'E/P', 'PEG', 'S/P', 'Size_Factor',\n",
       "       'Cum5_Return', 'LGBM_Prob_10_0.05', 'LGBM_Prob_10_0.075'],\n",
       "      dtype='object')"
      ]
     },
     "execution_count": 2,
     "metadata": {},
     "output_type": "execute_result"
    }
   ],
   "source": [
    "#***********************This Section is to read from saved file and index*****************\n",
    "concat_df=pd.read_csv('data/data_LGBM_Q.csv')\n",
    "#concat_df=pd.read_csv('NSE_500_Output4.csv')\n",
    "#concat_df=concat_df.drop(['Unnamed: 0', 'Return_2', 'Return_3', 'Return_4','Return_5'], axis=1)\n",
    "concat_df['Date']= pd.to_datetime(concat_df['Date'])\n",
    "concat_df=concat_df[concat_df['Date']>='2017-09-01']\n",
    "concat_df.columns"
   ]
  },
  {
   "cell_type": "code",
   "execution_count": 3,
   "metadata": {},
   "outputs": [
    {
     "data": {
      "text/html": [
       "<div>\n",
       "<style scoped>\n",
       "    .dataframe tbody tr th:only-of-type {\n",
       "        vertical-align: middle;\n",
       "    }\n",
       "\n",
       "    .dataframe tbody tr th {\n",
       "        vertical-align: top;\n",
       "    }\n",
       "\n",
       "    .dataframe thead th {\n",
       "        text-align: right;\n",
       "    }\n",
       "</style>\n",
       "<table border=\"1\" class=\"dataframe\">\n",
       "  <thead>\n",
       "    <tr style=\"text-align: right;\">\n",
       "      <th></th>\n",
       "      <th>Unnamed: 0</th>\n",
       "      <th>Unnamed: 0.1</th>\n",
       "      <th>Company Name</th>\n",
       "      <th>Industry</th>\n",
       "      <th>Symbol</th>\n",
       "      <th>Date</th>\n",
       "      <th>Open</th>\n",
       "      <th>High</th>\n",
       "      <th>Low</th>\n",
       "      <th>Close</th>\n",
       "      <th>...</th>\n",
       "      <th>FIIs%</th>\n",
       "      <th>Public%</th>\n",
       "      <th>EPS</th>\n",
       "      <th>E/P</th>\n",
       "      <th>PEG</th>\n",
       "      <th>S/P</th>\n",
       "      <th>Size_Factor</th>\n",
       "      <th>Cum5_Return</th>\n",
       "      <th>LGBM_Prob_10_0.05</th>\n",
       "      <th>LGBM_Prob_10_0.075</th>\n",
       "    </tr>\n",
       "  </thead>\n",
       "  <tbody>\n",
       "    <tr>\n",
       "      <th>0</th>\n",
       "      <td>0</td>\n",
       "      <td>0.0</td>\n",
       "      <td>3M India Ltd.</td>\n",
       "      <td>SERVICES</td>\n",
       "      <td>3MINDIA</td>\n",
       "      <td>2017-09-01</td>\n",
       "      <td>14780.000000</td>\n",
       "      <td>14780.0</td>\n",
       "      <td>14640.0</td>\n",
       "      <td>14689.799805</td>\n",
       "      <td>...</td>\n",
       "      <td>-0.003308</td>\n",
       "      <td>0.00369</td>\n",
       "      <td>52.99</td>\n",
       "      <td>0.003607</td>\n",
       "      <td>516.882470</td>\n",
       "      <td>0.043704</td>\n",
       "      <td>-9.719150</td>\n",
       "      <td>0.001145</td>\n",
       "      <td>0.014039</td>\n",
       "      <td>0.007177</td>\n",
       "    </tr>\n",
       "    <tr>\n",
       "      <th>1</th>\n",
       "      <td>1</td>\n",
       "      <td>1.0</td>\n",
       "      <td>3M India Ltd.</td>\n",
       "      <td>SERVICES</td>\n",
       "      <td>3MINDIA</td>\n",
       "      <td>2017-09-04</td>\n",
       "      <td>14780.000000</td>\n",
       "      <td>14780.0</td>\n",
       "      <td>14500.0</td>\n",
       "      <td>14634.799805</td>\n",
       "      <td>...</td>\n",
       "      <td>-0.003308</td>\n",
       "      <td>0.00369</td>\n",
       "      <td>52.99</td>\n",
       "      <td>0.003621</td>\n",
       "      <td>514.947213</td>\n",
       "      <td>0.043869</td>\n",
       "      <td>-9.715399</td>\n",
       "      <td>-0.003035</td>\n",
       "      <td>0.011419</td>\n",
       "      <td>0.007104</td>\n",
       "    </tr>\n",
       "    <tr>\n",
       "      <th>2</th>\n",
       "      <td>2</td>\n",
       "      <td>2.0</td>\n",
       "      <td>3M India Ltd.</td>\n",
       "      <td>SERVICES</td>\n",
       "      <td>3MINDIA</td>\n",
       "      <td>2017-09-05</td>\n",
       "      <td>14779.000000</td>\n",
       "      <td>14779.0</td>\n",
       "      <td>14480.0</td>\n",
       "      <td>14512.599609</td>\n",
       "      <td>...</td>\n",
       "      <td>-0.003308</td>\n",
       "      <td>0.00369</td>\n",
       "      <td>52.99</td>\n",
       "      <td>0.003651</td>\n",
       "      <td>510.647418</td>\n",
       "      <td>0.044238</td>\n",
       "      <td>-9.707014</td>\n",
       "      <td>0.009987</td>\n",
       "      <td>0.007972</td>\n",
       "      <td>0.008696</td>\n",
       "    </tr>\n",
       "    <tr>\n",
       "      <th>3</th>\n",
       "      <td>3</td>\n",
       "      <td>3.0</td>\n",
       "      <td>3M India Ltd.</td>\n",
       "      <td>SERVICES</td>\n",
       "      <td>3MINDIA</td>\n",
       "      <td>2017-09-06</td>\n",
       "      <td>14415.000000</td>\n",
       "      <td>14700.0</td>\n",
       "      <td>14415.0</td>\n",
       "      <td>14517.200195</td>\n",
       "      <td>...</td>\n",
       "      <td>-0.003308</td>\n",
       "      <td>0.00369</td>\n",
       "      <td>52.99</td>\n",
       "      <td>0.003650</td>\n",
       "      <td>510.809296</td>\n",
       "      <td>0.044224</td>\n",
       "      <td>-9.707331</td>\n",
       "      <td>0.007771</td>\n",
       "      <td>0.013352</td>\n",
       "      <td>0.009692</td>\n",
       "    </tr>\n",
       "    <tr>\n",
       "      <th>4</th>\n",
       "      <td>4</td>\n",
       "      <td>4.0</td>\n",
       "      <td>3M India Ltd.</td>\n",
       "      <td>SERVICES</td>\n",
       "      <td>3MINDIA</td>\n",
       "      <td>2017-09-07</td>\n",
       "      <td>14699.799805</td>\n",
       "      <td>14750.0</td>\n",
       "      <td>14480.5</td>\n",
       "      <td>14679.000000</td>\n",
       "      <td>...</td>\n",
       "      <td>-0.003308</td>\n",
       "      <td>0.00369</td>\n",
       "      <td>52.99</td>\n",
       "      <td>0.003610</td>\n",
       "      <td>516.502463</td>\n",
       "      <td>0.043736</td>\n",
       "      <td>-9.718415</td>\n",
       "      <td>-0.007207</td>\n",
       "      <td>0.024114</td>\n",
       "      <td>0.018877</td>\n",
       "    </tr>\n",
       "  </tbody>\n",
       "</table>\n",
       "<p>5 rows × 49 columns</p>\n",
       "</div>"
      ],
      "text/plain": [
       "   Unnamed: 0  Unnamed: 0.1   Company Name  Industry   Symbol       Date  \\\n",
       "0           0           0.0  3M India Ltd.  SERVICES  3MINDIA 2017-09-01   \n",
       "1           1           1.0  3M India Ltd.  SERVICES  3MINDIA 2017-09-04   \n",
       "2           2           2.0  3M India Ltd.  SERVICES  3MINDIA 2017-09-05   \n",
       "3           3           3.0  3M India Ltd.  SERVICES  3MINDIA 2017-09-06   \n",
       "4           4           4.0  3M India Ltd.  SERVICES  3MINDIA 2017-09-07   \n",
       "\n",
       "           Open     High      Low         Close  ...     FIIs%  Public%  \\\n",
       "0  14780.000000  14780.0  14640.0  14689.799805  ... -0.003308  0.00369   \n",
       "1  14780.000000  14780.0  14500.0  14634.799805  ... -0.003308  0.00369   \n",
       "2  14779.000000  14779.0  14480.0  14512.599609  ... -0.003308  0.00369   \n",
       "3  14415.000000  14700.0  14415.0  14517.200195  ... -0.003308  0.00369   \n",
       "4  14699.799805  14750.0  14480.5  14679.000000  ... -0.003308  0.00369   \n",
       "\n",
       "     EPS       E/P         PEG       S/P  Size_Factor  Cum5_Return  \\\n",
       "0  52.99  0.003607  516.882470  0.043704    -9.719150     0.001145   \n",
       "1  52.99  0.003621  514.947213  0.043869    -9.715399    -0.003035   \n",
       "2  52.99  0.003651  510.647418  0.044238    -9.707014     0.009987   \n",
       "3  52.99  0.003650  510.809296  0.044224    -9.707331     0.007771   \n",
       "4  52.99  0.003610  516.502463  0.043736    -9.718415    -0.007207   \n",
       "\n",
       "   LGBM_Prob_10_0.05  LGBM_Prob_10_0.075  \n",
       "0           0.014039            0.007177  \n",
       "1           0.011419            0.007104  \n",
       "2           0.007972            0.008696  \n",
       "3           0.013352            0.009692  \n",
       "4           0.024114            0.018877  \n",
       "\n",
       "[5 rows x 49 columns]"
      ]
     },
     "execution_count": 3,
     "metadata": {},
     "output_type": "execute_result"
    }
   ],
   "source": [
    "concat_df.head()"
   ]
  },
  {
   "cell_type": "code",
   "execution_count": 4,
   "metadata": {},
   "outputs": [
    {
     "data": {
      "text/plain": [
       "Timestamp('2020-09-25 00:00:00')"
      ]
     },
     "execution_count": 4,
     "metadata": {},
     "output_type": "execute_result"
    }
   ],
   "source": [
    "concat_df['Date'].max()"
   ]
  },
  {
   "cell_type": "code",
   "execution_count": 5,
   "metadata": {},
   "outputs": [],
   "source": [
    "concat_df = concat_df[concat_df.Industry != 'FINANCIAL SERVICES']\n",
    "concat_df = concat_df[concat_df.Industry != 'CONSTRUCTION']\n",
    "concat_df = concat_df[concat_df.Industry != 'MEDIA & ENTERTAINMENT']"
   ]
  },
  {
   "cell_type": "code",
   "execution_count": 6,
   "metadata": {},
   "outputs": [
    {
     "data": {
      "text/plain": [
       "190"
      ]
     },
     "execution_count": 6,
     "metadata": {},
     "output_type": "execute_result"
    }
   ],
   "source": [
    "screen_data=pd.read_csv('data/Peer_Ticker_nifty500_consoldiated_cleaned.csv')\n",
    "screen_1=screen_data[screen_data['Debt / Eq'] < 0.4]\n",
    "screen_2=screen_1[screen_1['Prom. Hold.  %'] > 20]\n",
    "#screen_3=screen_2[screen_2['ROE  %'] > 15]\n",
    "#screen_3=screen_3[screen_3['ROA 12M  %'] > 10]\n",
    "screen_4=screen_2[screen_2['CMP  Rs.'] < 5000]\n",
    "screen_4=screen_4['Ticker'].unique().tolist()\n",
    "len(screen_4)"
   ]
  },
  {
   "cell_type": "code",
   "execution_count": 7,
   "metadata": {},
   "outputs": [
    {
     "data": {
      "text/plain": [
       "Timestamp('2020-09-25 00:00:00')"
      ]
     },
     "execution_count": 7,
     "metadata": {},
     "output_type": "execute_result"
    }
   ],
   "source": [
    "concat_df['Date'].max()"
   ]
  },
  {
   "cell_type": "code",
   "execution_count": 8,
   "metadata": {},
   "outputs": [],
   "source": [
    "#concat_df=concat_df[concat_df['Date']>='3/3/2017']\n",
    "#concat_df=concat_df[concat_df['Date']<='7/19/2020']\n",
    "concat_df=concat_df[concat_df['Symbol'].isin(screen_4)]\n",
    "#concat_df['Return_1']=concat_df.groupby(\"Symbol\")['Return'].apply(lambda x: x.shift(-1))\n",
    "#ml_df_range=concat_df['Date'].tolist()\n",
    "#concat_df.count()"
   ]
  },
  {
   "cell_type": "code",
   "execution_count": 9,
   "metadata": {},
   "outputs": [
    {
     "data": {
      "text/plain": [
       "Index(['Unnamed: 0', 'Unnamed: 0.1', 'Company Name', 'Industry', 'Symbol',\n",
       "       'Date', 'Open', 'High', 'Low', 'Close', 'Adj Close', 'Volume',\n",
       "       'Share_Turnover', 'Return', 'Momentum', 'Mom_Sharpe', 'Mom_Gain_Loss',\n",
       "       'Mom_Slope', 'StDev', 'Liquidity', 'Volatility', 'NSE500', 'CAPM_Beta',\n",
       "       'CAPM_Alpha', 'Sector_Return', 'Sector_Momentum', 'EPS in Rs',\n",
       "       'Net Profit', 'Sales', 'Sales_Growth', 'OPM_Growth', 'EPS_Growth',\n",
       "       'Open_Shares', 'Promoters', 'FIIs', 'DIIs', 'Public', 'Promoters%',\n",
       "       'DIIs%', 'FIIs%', 'Public%', 'EPS', 'E/P', 'PEG', 'S/P', 'Size_Factor',\n",
       "       'Cum5_Return', 'LGBM_Prob_10_0.05', 'LGBM_Prob_10_0.075'],\n",
       "      dtype='object')"
      ]
     },
     "execution_count": 9,
     "metadata": {},
     "output_type": "execute_result"
    }
   ],
   "source": [
    "concat_df.columns"
   ]
  },
  {
   "cell_type": "code",
   "execution_count": null,
   "metadata": {},
   "outputs": [],
   "source": [
    "concat_df['S/P'].min()"
   ]
  },
  {
   "cell_type": "code",
   "execution_count": null,
   "metadata": {},
   "outputs": [],
   "source": [
    "concat_df['StDev']=concat_df['StDev']/100\n",
    "#concat_df['S/P']=1/concat_df['PES']\n",
    "#concat_df['Mom_Std']=concat_df['Momentum']*concat_df['StDev']\n",
    "concat_df['Mom_Size']=concat_df['Momentum']+concat_df['Size_Factor']\n",
    "#concat_df['Mom_RSI']=concat_df['Momentum']+concat_df['RSI']/100\n",
    "concat_df['Mom_Size_Sec']=concat_df['Momentum']+concat_df['Size_Factor']+concat_df['Sector_Momentum']\n",
    "concat_df['Mom_EP']=concat_df['Momentum']+concat_df['E/P']\n",
    "concat_df['Mom_Size_Sales']=concat_df['Momentum']+concat_df['Size_Factor']+concat_df['Sales_Growth']\n",
    "concat_df['Mom_Std_Sales']=concat_df['Momentum']+concat_df['StDev']+concat_df['Sales_Growth']\n",
    "concat_df['Mom_Std_Sales_OPM']=concat_df['Momentum']+concat_df['StDev']+concat_df['Sales_Growth']+concat_df['OPM_Growth']\n",
    "concat_df['Mom_Size_Sales_Sec']=concat_df['Momentum']+concat_df['Size_Factor']+concat_df['Sales_Growth']+concat_df['Sector_Momentum']\n",
    "concat_df['Size_Sales']=concat_df['Size_Factor']+concat_df['Sales_Growth']\n",
    "concat_df['Mom_Size_Sales_Std']=concat_df['Momentum']+concat_df['Size_Factor']+concat_df['Sales_Growth']+concat_df['StDev']\n",
    "concat_df['Size_Sales_Std']=concat_df['Size_Factor']+concat_df['Sales_Growth']+concat_df['StDev']\n",
    "concat_df['Sales_Std']=concat_df['Sales_Growth']+concat_df['StDev']\n",
    "concat_df['Mom_Size_Std']=concat_df['Momentum']+concat_df['Size_Factor']+concat_df['StDev']\n",
    "concat_df['Mom_Size_Std_Vol']=concat_df['Momentum']+concat_df['Size_Factor']+concat_df['StDev']+concat_df['Volatility']\n",
    "concat_df['Size_Std']=concat_df['Size_Factor']+concat_df['StDev']\n",
    "concat_df['Mom_Std']=concat_df['Momentum']+concat_df['StDev']\n",
    "concat_df['Mom_Std_Sec']=concat_df['Momentum']+concat_df['StDev']+concat_df['Sector_Momentum']\n",
    "concat_df['Mom_Size_OPM']=concat_df['Momentum']+concat_df['Size_Factor']+concat_df['OPM_Growth']\n",
    "concat_df['Mom_Size_Sales_EP']=concat_df['Momentum']+concat_df['Size_Factor']+concat_df['Sales_Growth']+concat_df['E/P']\n",
    "concat_df['Size_Sales_EP']=concat_df['Size_Factor']+concat_df['Sales_Growth']+concat_df['E/P']\n",
    "concat_df['Mom_Size_EPS']=concat_df['Momentum']+concat_df['Size_Factor']+concat_df['EPS_Growth']\n",
    "concat_df['Mom_Size_EP']=concat_df['Momentum']+concat_df['Size_Factor']+concat_df['E/P']*100\n",
    "concat_df['Mom_Vol']=concat_df['Momentum']+concat_df['Volatility']\n",
    "concat_df['Mom_Vol_StDev']=concat_df['Momentum']+concat_df['Volatility']+concat_df['StDev']\n",
    "concat_df['Vol_StDev']=concat_df['Volatility']+concat_df['StDev']\n",
    "concat_df.columns"
   ]
  },
  {
   "cell_type": "code",
   "execution_count": 11,
   "metadata": {},
   "outputs": [],
   "source": [
    "def evaluate_Long_Portfolio(concat_df, factor_name, rebalance_period= 5,screen_stock=10):\n",
    "    #date_rng = pd.date_range(start=concat_df['Date'].min(), end=concat_df['Date'].max(), freq=rebalance_period).tolist()\n",
    "    date_rng=concat_df[\"Date\"].map(lambda t: t.date()).unique().tolist()[0::rebalance_period]\n",
    "    concat_df1=concat_df[concat_df['Date'].isin(date_rng)]\n",
    "    concat_df2=concat_df1.groupby(\"Date\").apply(lambda x: x.nlargest(screen_stock,factor_name)).droplevel(1)\n",
    "    concat_df2=concat_df2.groupby(concat_df2.index).filter(lambda x:len(x) == screen_stock)\n",
    "    screener_out=concat_df2\n",
    "    concat_df2=concat_df2[['Symbol',factor_name]]\n",
    "    concat_df2.reset_index()\n",
    "    concat_df2['Scaled_Momentum']=concat_df2.groupby('Date')[factor_name].apply(lambda x: x/x.sum())\n",
    "    concat_df2=concat_df2.reset_index()\n",
    "    concat_df2=concat_df2.drop([factor_name],axis = 1)\n",
    "    date_rng1=pd.date_range(start=concat_df2['Date'].min(), end=concat_df2['Date'].max(), freq='1D').tolist()\n",
    "    date_rng2=concat_df2[\"Date\"].map(lambda t: t.date()).unique().tolist()\n",
    "    date_rng2=concat_df2[\"Date\"].map(lambda t: t.date()).unique()\n",
    "    z1=pd.DataFrame()\n",
    "    for dt1 in date_rng1:\n",
    "        t1=pd.DataFrame()\n",
    "        old_date=dt1-pd.DateOffset(days=1)\n",
    "        #print(\"Old Date is:\", old_date)\n",
    "        if(dt1 in date_rng2):\n",
    "            #print(\"Inside If\")\n",
    "            t1=concat_df2[concat_df2['Date']==dt1]\n",
    "            t1['Date']=dt1\n",
    "        else:\n",
    "            #print(\"Inside Else\")\n",
    "            t1=z1[z1['Date']==old_date]\n",
    "            t1['Date']=dt1\n",
    "        z1=z1.append(t1)\n",
    "    concat_df5=concat_df[['Symbol', 'Date', 'Return']]\n",
    "    concat_df5.head()\n",
    "    concat_df6=z1.merge(concat_df5, how='right', on=['Date','Symbol'])\n",
    "    concat_df7=pd.DataFrame()\n",
    "    concat_df7['Mom_Return']=concat_df6.groupby(\"Date\").apply(lambda x: np.sum(x['Scaled_Momentum']*x['Return']))\n",
    "    concat_df7=concat_df7.loc[~(concat_df7==0).all(axis=1)]\n",
    "    factor_plot='Plot_'+factor_name\n",
    "    concat_df7[factor_plot]= (concat_df7['Mom_Return'] + 1).cumprod()\n",
    "    concat_df7=concat_df7.drop(['Mom_Return'],axis=1)\n",
    "    concat_df7.plot(y=factor_plot)\n",
    "    return z1, concat_df7, screener_out  "
   ]
  },
  {
   "cell_type": "code",
   "execution_count": 12,
   "metadata": {},
   "outputs": [],
   "source": [
    "out_add=pd.DataFrame()\n",
    "def create_strategy_data(concat_df,factor_list,rebalance_period= 5,screen_stock=10):\n",
    "    factor_return_frame=pd.DataFrame()\n",
    "    for factor_name in factor_list:\n",
    "        #print(\"Now processing for factor: \", factor_name)\n",
    "        z1, factor_return,factor_screen=evaluate_Long_Portfolio(concat_df,factor_name, rebalance_period=rebalance_period,screen_stock=screen_stock)\n",
    "        #print(\"***********Factor_Head\",factor_return.columns,factor_return.index )\n",
    "        #factor_return_frame[factor_name]=factor_return\n",
    "        #print(\"Got data for factor: \", factor_name)\n",
    "        factor_return=factor_return.sort_index()\n",
    "        factor_return.rebase().head()\n",
    "        #print(factor_return.columns)\n",
    "        #feature_name=\"Plot_\"+factor_name\n",
    "        #factor_return_frame=factor_return_frame.append(factor_return)\n",
    "        #factor_return_1=factor_return[feature_name].pct_change()\n",
    "        factor_return_frame=pd.concat([factor_return_frame,factor_return], axis=1)\n",
    "        riskfree_rate=0.0002765\n",
    "        #stats.set_riskfree_rate(riskfree_rate)\n",
    "        #stats.display()\n",
    "        s_equal_weights_factor = bt.Strategy(factor_name, [bt.algos.RunQuarterly(),bt.algos.SelectAll(), bt.algos.WeighEqually(),bt.algos.Rebalance()])\n",
    "        b_equal_weights_factor= bt.Backtest(s_equal_weights_factor, factor_return)\n",
    "        result = bt.run(b_equal_weights_factor)\n",
    "        #print(\"Done Calculating result for factor: \", factor_name)\n",
    "        out_add[factor_name]=result.stats[factor_name]\n",
    "    return out_add,factor_return_frame"
   ]
  },
  {
   "cell_type": "code",
   "execution_count": null,
   "metadata": {},
   "outputs": [],
   "source": [
    "feature_list=['Sales_Growth', 'OPM_Growth', 'EPS_Growth', 'EPS', 'E/P', 'PES', 'Size_Factor','Momentum','StDev','Volatility','Mom_Vol','Mom_Vol_StDev' ,'Mom_Std', 'Mom_Size', 'Mom_EP',\n",
    "       'Mom_Size_Sales','Mom_Std_Sales_OPM','Mom_Std_Sales', 'Mom_Size_Sales_Std', 'Mom_Size_Std','Mom_Size_Std_Vol','Mom_Size_OPM', 'Mom_Size_Sales_EP', 'Mom_Size_EPS', 'Mom_Size_EP','Size_Sales_Std','Sales_Std']\n",
    "strategy_data,factor_return_frame=create_strategy_data(concat_df,feature_list,rebalance_period= 10,screen_stock=12)\n",
    "#strategy_data.to_csv('strategy_data.csv')"
   ]
  },
  {
   "cell_type": "code",
   "execution_count": null,
   "metadata": {},
   "outputs": [],
   "source": [
    "factor_return_frame.to_csv('data/Factor_Return_Q.csv')"
   ]
  },
  {
   "cell_type": "markdown",
   "metadata": {},
   "source": [
    "First Portfolio of Sh Invested"
   ]
  },
  {
   "cell_type": "code",
   "execution_count": null,
   "metadata": {},
   "outputs": [],
   "source": [
    "beginning = '2004-06-01'\n",
    "data_nse50 = bt.get('^NSEI', start=beginning)\n",
    "data_nse50=data_nse50[data_nse50.index>='6/5/2017']\n",
    "data_nse50=data_nse50[data_nse50.index<'8/15/2020']\n",
    "s_nse50 = bt.Strategy('Benchmark NIFTY50', \n",
    "                       [bt.algos.RunQuarterly(),\n",
    "                       bt.algos.SelectAll(),\n",
    "                       bt.algos.WeighEqually(),\n",
    "                       bt.algos.Rebalance()])                    \n",
    "b_nse50 = bt.Backtest(s_nse50, data_nse50)\n",
    "result = bt.run(b_nse50)\n",
    "result.plot()\n",
    "strategy_data['Benchmark NIFTY50']=result.stats['Benchmark NIFTY50']"
   ]
  },
  {
   "cell_type": "code",
   "execution_count": null,
   "metadata": {},
   "outputs": [],
   "source": [
    "beginning = '2004-06-01'\n",
    "data_nsemid100 = bt.get('^CRSMID', start=beginning)\n",
    "data_nsemid100=data_nsemid100[data_nsemid100.index>='6/5/2017']\n",
    "data_nsemid100=data_nsemid100[data_nsemid100.index<'8/15/2020']\n",
    "s_nsemid100 = bt.Strategy('Benchmark NiftyMid', \n",
    "                       [bt.algos.RunQuarterly(),\n",
    "                       bt.algos.SelectAll(),\n",
    "                       bt.algos.WeighEqually(),\n",
    "                       bt.algos.Rebalance()])\n",
    "                    \n",
    "b_nsemid100 = bt.Backtest(s_nsemid100, data_nsemid100)\n",
    "result = bt.run(b_nsemid100)\n",
    "strategy_data['Benchmark NiftyMid']=result.stats['Benchmark NiftyMid']"
   ]
  },
  {
   "cell_type": "code",
   "execution_count": null,
   "metadata": {},
   "outputs": [],
   "source": [
    "strategy_data.to_csv('data/strategy_data_Q_nifty500_6000.csv')"
   ]
  },
  {
   "cell_type": "code",
   "execution_count": null,
   "metadata": {},
   "outputs": [],
   "source": [
    "strategy_data.columns"
   ]
  },
  {
   "cell_type": "code",
   "execution_count": 15,
   "metadata": {},
   "outputs": [],
   "source": [
    "investment_amount=100000"
   ]
  },
  {
   "cell_type": "code",
   "execution_count": 13,
   "metadata": {},
   "outputs": [],
   "source": [
    "def calculate_returns(factor_name,screener_out,concat_df, investment=50000,screen_stock=10):\n",
    "    date_rng_screen=screener_out[\"Date\"].map(lambda t: t.date()).unique().tolist()\n",
    "    #print(\"Date Range is:\", date_rng_screen)\n",
    "    date_rng_screen_1 = date_rng_screen\n",
    "    date_rng_screen_1.pop(0)\n",
    "    date_rng_screen_2=list()\n",
    "    for date in date_rng_screen_1:\n",
    "        for i in range(screen_stock):\n",
    "            date_rng_screen_2.append(date)\n",
    "    screener_new=screener_out[:-screen_stock]\n",
    "    #screener_new.to_csv(\"screener_new.csv\")\n",
    "    #print(\"Screen Date is:\", screener_new['Date'].count(), len(date_rng_screen_2))\n",
    "    screener_new['Sell_Date']=date_rng_screen_2\n",
    "    screener_new=screener_new.rename(columns={\"Date\": \"Buy_Date\"})\n",
    "    screener_new['Sell_Date']= pd.to_datetime(screener_new['Sell_Date'])\n",
    "    concat_df1=concat_df[['Symbol','Date','Open','Close']]\n",
    "    concat_df1['Adj Close']=(concat_df1['Open']+concat_df1['Close'])/2\n",
    "    concat_df1=concat_df1.drop(['Open','Close'],axis=1)\n",
    "    concat_df1['Adj Close']=concat_df1.groupby(\"Symbol\")['Adj Close'].apply(lambda x: x.shift(-1))\n",
    "    concat_df=concat_df1\n",
    "    screener_new_1=screener_new.merge(concat_df[['Symbol','Date','Adj Close']],how='left',left_on=['Symbol','Buy_Date'], right_on=['Symbol','Date'])\n",
    "    screener_new_1=screener_new_1.rename(columns={\"Adj Close\": \"Buy_Price\"})\n",
    "    screener_new_1=screener_new_1.merge(concat_df[['Symbol','Date','Adj Close']],how='left',left_on=['Symbol','Sell_Date'], right_on=['Symbol','Date'])\n",
    "    screener_new_1=screener_new_1.rename(columns={\"Adj Close\": \"Sell_Price\"})\n",
    "    screener_new_1=screener_new_1.drop(['Date_x','Date_y'],axis = 1)\n",
    "    screener_new_2 = screener_new_1.groupby('Buy_Date').apply(lambda x: investment* x[factor_name] /x['Buy_Price']).droplevel(1).reset_index()\n",
    "    screener_new_2=screener_new_2.rename(columns={ 0: \"Shares\"})\n",
    "    screener_new_1['Shares']=screener_new_2['Shares'].tolist()\n",
    "    screener_new_1['Profit']=(screener_new_1['Sell_Price']-screener_new_1['Buy_Price'])*screener_new_1['Shares']\n",
    "    screener_new_1=screener_new_1.rename(columns={ factor_name: \"Factor_Screen_Value\"})\n",
    "    screener_new_1['Factor_Name']=factor_name\n",
    "    screener_profit=pd.DataFrame()\n",
    "    screener_profit['Percentage']=(screener_new_1.groupby('Sell_Date')['Profit'].sum())/investment\n",
    "    screener_profit['INR']=screener_profit['Percentage']*investment\n",
    "    screener_profit['Factor_Name']=factor_name\n",
    "    screener_detailed=screener_new_1\n",
    "    return screener_profit,screener_detailed"
   ]
  },
  {
   "cell_type": "code",
   "execution_count": 30,
   "metadata": {},
   "outputs": [
    {
     "name": "stdout",
     "output_type": "stream",
     "text": [
      "Now Processing for rebalance period: 10  &: screen_stock:  10\n",
      "Now processing for factor:  Sales_Growth\n"
     ]
    },
    {
     "ename": "KeyboardInterrupt",
     "evalue": "",
     "output_type": "error",
     "traceback": [
      "\u001b[1;31m---------------------------------------------------------------------------\u001b[0m",
      "\u001b[1;31mKeyboardInterrupt\u001b[0m                         Traceback (most recent call last)",
      "\u001b[1;32m<ipython-input-30-ed4078a55e92>\u001b[0m in \u001b[0;36m<module>\u001b[1;34m\u001b[0m\n\u001b[0;32m     14\u001b[0m         \u001b[1;32mfor\u001b[0m \u001b[0mfactor_name\u001b[0m \u001b[1;32min\u001b[0m \u001b[0mfactor_list\u001b[0m\u001b[1;33m:\u001b[0m\u001b[1;33m\u001b[0m\u001b[1;33m\u001b[0m\u001b[0m\n\u001b[0;32m     15\u001b[0m             \u001b[0mprint\u001b[0m\u001b[1;33m(\u001b[0m\u001b[1;34m\"Now processing for factor: \"\u001b[0m\u001b[1;33m,\u001b[0m \u001b[0mfactor_name\u001b[0m\u001b[1;33m)\u001b[0m\u001b[1;33m\u001b[0m\u001b[1;33m\u001b[0m\u001b[0m\n\u001b[1;32m---> 16\u001b[1;33m             \u001b[0mz1\u001b[0m\u001b[1;33m,\u001b[0m \u001b[0mconcat_df7\u001b[0m\u001b[1;33m,\u001b[0m \u001b[0mscreener_out\u001b[0m \u001b[1;33m=\u001b[0m \u001b[0mevaluate_Long_Portfolio\u001b[0m\u001b[1;33m(\u001b[0m\u001b[0mconcat_df\u001b[0m\u001b[1;33m,\u001b[0m\u001b[0mfactor_name\u001b[0m \u001b[1;33m,\u001b[0m \u001b[0mrebalance_period\u001b[0m\u001b[1;33m=\u001b[0m \u001b[0mrebalance_period\u001b[0m\u001b[1;33m,\u001b[0m\u001b[0mscreen_stock\u001b[0m\u001b[1;33m=\u001b[0m\u001b[0mscreen_stock\u001b[0m\u001b[1;33m)\u001b[0m\u001b[1;33m\u001b[0m\u001b[1;33m\u001b[0m\u001b[0m\n\u001b[0m\u001b[0;32m     17\u001b[0m             \u001b[0mscreener_out\u001b[0m\u001b[1;33m=\u001b[0m\u001b[0mscreener_out\u001b[0m\u001b[1;33m[\u001b[0m\u001b[1;33m[\u001b[0m\u001b[1;34m'Symbol'\u001b[0m\u001b[1;33m,\u001b[0m\u001b[0mfactor_name\u001b[0m\u001b[1;33m]\u001b[0m\u001b[1;33m]\u001b[0m\u001b[1;33m\u001b[0m\u001b[1;33m\u001b[0m\u001b[0m\n\u001b[0;32m     18\u001b[0m             \u001b[0ms1\u001b[0m\u001b[1;33m=\u001b[0m\u001b[0mscreener_out\u001b[0m\u001b[1;33m\u001b[0m\u001b[1;33m\u001b[0m\u001b[0m\n",
      "\u001b[1;32m<ipython-input-14-efb9dd3de15a>\u001b[0m in \u001b[0;36mevaluate_Long_Portfolio\u001b[1;34m(concat_df, factor_name, rebalance_period, screen_stock)\u001b[0m\n\u001b[0;32m     25\u001b[0m         \u001b[1;32melse\u001b[0m\u001b[1;33m:\u001b[0m\u001b[1;33m\u001b[0m\u001b[1;33m\u001b[0m\u001b[0m\n\u001b[0;32m     26\u001b[0m             \u001b[1;31m#print(\"Inside Else\")\u001b[0m\u001b[1;33m\u001b[0m\u001b[1;33m\u001b[0m\u001b[1;33m\u001b[0m\u001b[0m\n\u001b[1;32m---> 27\u001b[1;33m             \u001b[0mt1\u001b[0m\u001b[1;33m=\u001b[0m\u001b[0mz1\u001b[0m\u001b[1;33m[\u001b[0m\u001b[0mz1\u001b[0m\u001b[1;33m[\u001b[0m\u001b[1;34m'Date'\u001b[0m\u001b[1;33m]\u001b[0m\u001b[1;33m==\u001b[0m\u001b[0mold_date\u001b[0m\u001b[1;33m]\u001b[0m\u001b[1;33m\u001b[0m\u001b[1;33m\u001b[0m\u001b[0m\n\u001b[0m\u001b[0;32m     28\u001b[0m             \u001b[0mt1\u001b[0m\u001b[1;33m[\u001b[0m\u001b[1;34m'Date'\u001b[0m\u001b[1;33m]\u001b[0m\u001b[1;33m=\u001b[0m\u001b[0mdt1\u001b[0m\u001b[1;33m\u001b[0m\u001b[1;33m\u001b[0m\u001b[0m\n\u001b[0;32m     29\u001b[0m         \u001b[0mz1\u001b[0m\u001b[1;33m=\u001b[0m\u001b[0mz1\u001b[0m\u001b[1;33m.\u001b[0m\u001b[0mappend\u001b[0m\u001b[1;33m(\u001b[0m\u001b[0mt1\u001b[0m\u001b[1;33m)\u001b[0m\u001b[1;33m\u001b[0m\u001b[1;33m\u001b[0m\u001b[0m\n",
      "\u001b[1;32mC:\\Anaconda3\\envs\\myquant2\\lib\\site-packages\\pandas\\core\\ops\\common.py\u001b[0m in \u001b[0;36mnew_method\u001b[1;34m(self, other)\u001b[0m\n\u001b[0;32m     62\u001b[0m         \u001b[0mother\u001b[0m \u001b[1;33m=\u001b[0m \u001b[0mitem_from_zerodim\u001b[0m\u001b[1;33m(\u001b[0m\u001b[0mother\u001b[0m\u001b[1;33m)\u001b[0m\u001b[1;33m\u001b[0m\u001b[1;33m\u001b[0m\u001b[0m\n\u001b[0;32m     63\u001b[0m \u001b[1;33m\u001b[0m\u001b[0m\n\u001b[1;32m---> 64\u001b[1;33m         \u001b[1;32mreturn\u001b[0m \u001b[0mmethod\u001b[0m\u001b[1;33m(\u001b[0m\u001b[0mself\u001b[0m\u001b[1;33m,\u001b[0m \u001b[0mother\u001b[0m\u001b[1;33m)\u001b[0m\u001b[1;33m\u001b[0m\u001b[1;33m\u001b[0m\u001b[0m\n\u001b[0m\u001b[0;32m     65\u001b[0m \u001b[1;33m\u001b[0m\u001b[0m\n\u001b[0;32m     66\u001b[0m     \u001b[1;32mreturn\u001b[0m \u001b[0mnew_method\u001b[0m\u001b[1;33m\u001b[0m\u001b[1;33m\u001b[0m\u001b[0m\n",
      "\u001b[1;32mC:\\Anaconda3\\envs\\myquant2\\lib\\site-packages\\pandas\\core\\ops\\__init__.py\u001b[0m in \u001b[0;36mwrapper\u001b[1;34m(self, other)\u001b[0m\n\u001b[0;32m    527\u001b[0m         \u001b[0mrvalues\u001b[0m \u001b[1;33m=\u001b[0m \u001b[0mextract_array\u001b[0m\u001b[1;33m(\u001b[0m\u001b[0mother\u001b[0m\u001b[1;33m,\u001b[0m \u001b[0mextract_numpy\u001b[0m\u001b[1;33m=\u001b[0m\u001b[1;32mTrue\u001b[0m\u001b[1;33m)\u001b[0m\u001b[1;33m\u001b[0m\u001b[1;33m\u001b[0m\u001b[0m\n\u001b[0;32m    528\u001b[0m \u001b[1;33m\u001b[0m\u001b[0m\n\u001b[1;32m--> 529\u001b[1;33m         \u001b[0mres_values\u001b[0m \u001b[1;33m=\u001b[0m \u001b[0mcomparison_op\u001b[0m\u001b[1;33m(\u001b[0m\u001b[0mlvalues\u001b[0m\u001b[1;33m,\u001b[0m \u001b[0mrvalues\u001b[0m\u001b[1;33m,\u001b[0m \u001b[0mop\u001b[0m\u001b[1;33m)\u001b[0m\u001b[1;33m\u001b[0m\u001b[1;33m\u001b[0m\u001b[0m\n\u001b[0m\u001b[0;32m    530\u001b[0m \u001b[1;33m\u001b[0m\u001b[0m\n\u001b[0;32m    531\u001b[0m         \u001b[1;32mreturn\u001b[0m \u001b[0m_construct_result\u001b[0m\u001b[1;33m(\u001b[0m\u001b[0mself\u001b[0m\u001b[1;33m,\u001b[0m \u001b[0mres_values\u001b[0m\u001b[1;33m,\u001b[0m \u001b[0mindex\u001b[0m\u001b[1;33m=\u001b[0m\u001b[0mself\u001b[0m\u001b[1;33m.\u001b[0m\u001b[0mindex\u001b[0m\u001b[1;33m,\u001b[0m \u001b[0mname\u001b[0m\u001b[1;33m=\u001b[0m\u001b[0mres_name\u001b[0m\u001b[1;33m)\u001b[0m\u001b[1;33m\u001b[0m\u001b[1;33m\u001b[0m\u001b[0m\n",
      "\u001b[1;32mC:\\Anaconda3\\envs\\myquant2\\lib\\site-packages\\pandas\\core\\ops\\array_ops.py\u001b[0m in \u001b[0;36mcomparison_op\u001b[1;34m(left, right, op)\u001b[0m\n\u001b[0;32m    235\u001b[0m \u001b[1;33m\u001b[0m\u001b[0m\n\u001b[0;32m    236\u001b[0m     \u001b[1;32mif\u001b[0m \u001b[0mshould_extension_dispatch\u001b[0m\u001b[1;33m(\u001b[0m\u001b[0mlvalues\u001b[0m\u001b[1;33m,\u001b[0m \u001b[0mrvalues\u001b[0m\u001b[1;33m)\u001b[0m\u001b[1;33m:\u001b[0m\u001b[1;33m\u001b[0m\u001b[1;33m\u001b[0m\u001b[0m\n\u001b[1;32m--> 237\u001b[1;33m         \u001b[0mres_values\u001b[0m \u001b[1;33m=\u001b[0m \u001b[0mdispatch_to_extension_op\u001b[0m\u001b[1;33m(\u001b[0m\u001b[0mop\u001b[0m\u001b[1;33m,\u001b[0m \u001b[0mlvalues\u001b[0m\u001b[1;33m,\u001b[0m \u001b[0mrvalues\u001b[0m\u001b[1;33m)\u001b[0m\u001b[1;33m\u001b[0m\u001b[1;33m\u001b[0m\u001b[0m\n\u001b[0m\u001b[0;32m    238\u001b[0m \u001b[1;33m\u001b[0m\u001b[0m\n\u001b[0;32m    239\u001b[0m     \u001b[1;32melif\u001b[0m \u001b[0mis_scalar\u001b[0m\u001b[1;33m(\u001b[0m\u001b[0mrvalues\u001b[0m\u001b[1;33m)\u001b[0m \u001b[1;32mand\u001b[0m \u001b[0misna\u001b[0m\u001b[1;33m(\u001b[0m\u001b[0mrvalues\u001b[0m\u001b[1;33m)\u001b[0m\u001b[1;33m:\u001b[0m\u001b[1;33m\u001b[0m\u001b[1;33m\u001b[0m\u001b[0m\n",
      "\u001b[1;32mC:\\Anaconda3\\envs\\myquant2\\lib\\site-packages\\pandas\\core\\ops\\dispatch.py\u001b[0m in \u001b[0;36mdispatch_to_extension_op\u001b[1;34m(op, left, right)\u001b[0m\n\u001b[0;32m    123\u001b[0m     \u001b[1;31m# The op calls will raise TypeError if the op is not defined\u001b[0m\u001b[1;33m\u001b[0m\u001b[1;33m\u001b[0m\u001b[1;33m\u001b[0m\u001b[0m\n\u001b[0;32m    124\u001b[0m     \u001b[1;31m# on the ExtensionArray\u001b[0m\u001b[1;33m\u001b[0m\u001b[1;33m\u001b[0m\u001b[1;33m\u001b[0m\u001b[0m\n\u001b[1;32m--> 125\u001b[1;33m     \u001b[0mres_values\u001b[0m \u001b[1;33m=\u001b[0m \u001b[0mop\u001b[0m\u001b[1;33m(\u001b[0m\u001b[0mleft\u001b[0m\u001b[1;33m,\u001b[0m \u001b[0mright\u001b[0m\u001b[1;33m)\u001b[0m\u001b[1;33m\u001b[0m\u001b[1;33m\u001b[0m\u001b[0m\n\u001b[0m\u001b[0;32m    126\u001b[0m     \u001b[1;32mreturn\u001b[0m \u001b[0mres_values\u001b[0m\u001b[1;33m\u001b[0m\u001b[1;33m\u001b[0m\u001b[0m\n",
      "\u001b[1;32mC:\\Anaconda3\\envs\\myquant2\\lib\\site-packages\\pandas\\core\\ops\\common.py\u001b[0m in \u001b[0;36mnew_method\u001b[1;34m(self, other)\u001b[0m\n\u001b[0;32m     62\u001b[0m         \u001b[0mother\u001b[0m \u001b[1;33m=\u001b[0m \u001b[0mitem_from_zerodim\u001b[0m\u001b[1;33m(\u001b[0m\u001b[0mother\u001b[0m\u001b[1;33m)\u001b[0m\u001b[1;33m\u001b[0m\u001b[1;33m\u001b[0m\u001b[0m\n\u001b[0;32m     63\u001b[0m \u001b[1;33m\u001b[0m\u001b[0m\n\u001b[1;32m---> 64\u001b[1;33m         \u001b[1;32mreturn\u001b[0m \u001b[0mmethod\u001b[0m\u001b[1;33m(\u001b[0m\u001b[0mself\u001b[0m\u001b[1;33m,\u001b[0m \u001b[0mother\u001b[0m\u001b[1;33m)\u001b[0m\u001b[1;33m\u001b[0m\u001b[1;33m\u001b[0m\u001b[0m\n\u001b[0m\u001b[0;32m     65\u001b[0m \u001b[1;33m\u001b[0m\u001b[0m\n\u001b[0;32m     66\u001b[0m     \u001b[1;32mreturn\u001b[0m \u001b[0mnew_method\u001b[0m\u001b[1;33m\u001b[0m\u001b[1;33m\u001b[0m\u001b[0m\n",
      "\u001b[1;32mC:\\Anaconda3\\envs\\myquant2\\lib\\site-packages\\pandas\\core\\arrays\\datetimelike.py\u001b[0m in \u001b[0;36mwrapper\u001b[1;34m(self, other)\u001b[0m\n\u001b[0;32m    118\u001b[0m                 \u001b[0mresult\u001b[0m\u001b[1;33m[\u001b[0m\u001b[0mo_mask\u001b[0m\u001b[1;33m]\u001b[0m \u001b[1;33m=\u001b[0m \u001b[0mnat_result\u001b[0m\u001b[1;33m\u001b[0m\u001b[1;33m\u001b[0m\u001b[0m\n\u001b[0;32m    119\u001b[0m \u001b[1;33m\u001b[0m\u001b[0m\n\u001b[1;32m--> 120\u001b[1;33m         \u001b[1;32mif\u001b[0m \u001b[0mself\u001b[0m\u001b[1;33m.\u001b[0m\u001b[0m_hasnans\u001b[0m\u001b[1;33m:\u001b[0m\u001b[1;33m\u001b[0m\u001b[1;33m\u001b[0m\u001b[0m\n\u001b[0m\u001b[0;32m    121\u001b[0m             \u001b[0mresult\u001b[0m\u001b[1;33m[\u001b[0m\u001b[0mself\u001b[0m\u001b[1;33m.\u001b[0m\u001b[0m_isnan\u001b[0m\u001b[1;33m]\u001b[0m \u001b[1;33m=\u001b[0m \u001b[0mnat_result\u001b[0m\u001b[1;33m\u001b[0m\u001b[1;33m\u001b[0m\u001b[0m\n\u001b[0;32m    122\u001b[0m \u001b[1;33m\u001b[0m\u001b[0m\n",
      "\u001b[1;32mC:\\Anaconda3\\envs\\myquant2\\lib\\site-packages\\pandas\\core\\arrays\\datetimelike.py\u001b[0m in \u001b[0;36m_hasnans\u001b[1;34m(self)\u001b[0m\n\u001b[0;32m    889\u001b[0m         \u001b[1;32mreturn\u001b[0m \u001b[1;32mif\u001b[0m \u001b[0mI\u001b[0m \u001b[0mhave\u001b[0m \u001b[0many\u001b[0m \u001b[0mnans\u001b[0m\u001b[1;33m;\u001b[0m \u001b[0menables\u001b[0m \u001b[0mvarious\u001b[0m \u001b[0mperf\u001b[0m \u001b[0mspeedups\u001b[0m\u001b[1;33m\u001b[0m\u001b[1;33m\u001b[0m\u001b[0m\n\u001b[0;32m    890\u001b[0m         \"\"\"\n\u001b[1;32m--> 891\u001b[1;33m         \u001b[1;32mreturn\u001b[0m \u001b[0mbool\u001b[0m\u001b[1;33m(\u001b[0m\u001b[0mself\u001b[0m\u001b[1;33m.\u001b[0m\u001b[0m_isnan\u001b[0m\u001b[1;33m.\u001b[0m\u001b[0many\u001b[0m\u001b[1;33m(\u001b[0m\u001b[1;33m)\u001b[0m\u001b[1;33m)\u001b[0m\u001b[1;33m\u001b[0m\u001b[1;33m\u001b[0m\u001b[0m\n\u001b[0m\u001b[0;32m    892\u001b[0m \u001b[1;33m\u001b[0m\u001b[0m\n\u001b[0;32m    893\u001b[0m     \u001b[1;32mdef\u001b[0m \u001b[0m_maybe_mask_results\u001b[0m\u001b[1;33m(\u001b[0m\u001b[0mself\u001b[0m\u001b[1;33m,\u001b[0m \u001b[0mresult\u001b[0m\u001b[1;33m,\u001b[0m \u001b[0mfill_value\u001b[0m\u001b[1;33m=\u001b[0m\u001b[0miNaT\u001b[0m\u001b[1;33m,\u001b[0m \u001b[0mconvert\u001b[0m\u001b[1;33m=\u001b[0m\u001b[1;32mNone\u001b[0m\u001b[1;33m)\u001b[0m\u001b[1;33m:\u001b[0m\u001b[1;33m\u001b[0m\u001b[1;33m\u001b[0m\u001b[0m\n",
      "\u001b[1;32mC:\\Anaconda3\\envs\\myquant2\\lib\\site-packages\\pandas\\core\\arrays\\datetimelike.py\u001b[0m in \u001b[0;36m_isnan\u001b[1;34m(self)\u001b[0m\n\u001b[0;32m    882\u001b[0m         \u001b[1;32mreturn\u001b[0m \u001b[1;32mif\u001b[0m \u001b[0meach\u001b[0m \u001b[0mvalue\u001b[0m \u001b[1;32mis\u001b[0m \u001b[0mnan\u001b[0m\u001b[1;33m\u001b[0m\u001b[1;33m\u001b[0m\u001b[0m\n\u001b[0;32m    883\u001b[0m         \"\"\"\n\u001b[1;32m--> 884\u001b[1;33m         \u001b[1;32mreturn\u001b[0m \u001b[0mself\u001b[0m\u001b[1;33m.\u001b[0m\u001b[0masi8\u001b[0m \u001b[1;33m==\u001b[0m \u001b[0miNaT\u001b[0m\u001b[1;33m\u001b[0m\u001b[1;33m\u001b[0m\u001b[0m\n\u001b[0m\u001b[0;32m    885\u001b[0m \u001b[1;33m\u001b[0m\u001b[0m\n\u001b[0;32m    886\u001b[0m     \u001b[1;33m@\u001b[0m\u001b[0mproperty\u001b[0m  \u001b[1;31m# NB: override with cache_readonly in immutable subclasses\u001b[0m\u001b[1;33m\u001b[0m\u001b[1;33m\u001b[0m\u001b[0m\n",
      "\u001b[1;31mKeyboardInterrupt\u001b[0m: "
     ]
    }
   ],
   "source": [
    "screener_detailed_df=pd.DataFrame()\n",
    "screener_profit_df=pd.DataFrame()\n",
    "#rebalance_period_list=[5,10,20]\n",
    "#screen_stock_list=[10,12,15]\n",
    "rebalance_period_list=[10]\n",
    "screen_stock_list=[10]\n",
    "for rebalance_period in rebalance_period_list:\n",
    "    for screen_stock in screen_stock_list:\n",
    "        print(\"Now Processing for rebalance period:\",rebalance_period,\" &: screen_stock: \",screen_stock )\n",
    "        #factor_list=['Mom_Size_Sales','10_Mom_Size_Sales','Mom_Size_10_Sales','Mom_Size_Sales_10']\n",
    "        factor_list=['Sales_Growth', 'OPM_Growth', 'EPS_Growth', 'EPS', 'E/P', 'PES', 'LGBM_Prob_10_0.0', 'LGBM_Prob_10_0.02',\n",
    "       'LGBM_Prob_10_0.05','Size_Factor','Momentum','StDev','Volatility','Mom_Vol','Mom_Vol_StDev' ,'Mom_Std', 'Mom_Size', 'Mom_EP',\n",
    "       'Mom_Size_Sales','Mom_Std_Sales_OPM','Mom_Std_Sales', 'Mom_Size_Sales_Std', 'Mom_Size_Std','Mom_Size_Std_Vol','Mom_Size_OPM', 'Mom_Size_Sales_EP', 'Mom_Size_EPS', 'Mom_Size_EP','Size_Sales_Std','Sales_Std']\n",
    "        for factor_name in factor_list:\n",
    "            print(\"Now processing for factor: \", factor_name)\n",
    "            z1, concat_df7, screener_out = evaluate_Long_Portfolio(concat_df,factor_name , rebalance_period= rebalance_period,screen_stock=screen_stock)\n",
    "            screener_out=screener_out[['Symbol',factor_name]]\n",
    "            s1=screener_out\n",
    "            screener_out=screener_out.groupby(['Date']).filter(lambda x:len(x) == screen_stock)\n",
    "            screener_out.reset_index()\n",
    "            screener_out[factor_name]=screener_out.groupby('Date')[factor_name].apply(lambda x:x/sum(x))\n",
    "            screener_out=screener_out.reset_index()\n",
    "            print('Screener Date Count:', len(screener_out[\"Date\"].map(lambda t: t.date()).unique().tolist()))\n",
    "            #screener_out.to_csv('screener_momentum.csv')\n",
    "            screener_profit,screener_detailed=calculate_returns(factor_name,screener_out,concat_df, investment=investment_amount,screen_stock=screen_stock)\n",
    "            screener_profit['rebalance_period']=rebalance_period\n",
    "            screener_profit['screen_stock']=screen_stock\n",
    "            screener_detailed['rebalance_period']=rebalance_period\n",
    "            screener_detailed['screen_stock']=screen_stock\n",
    "            screener_detailed_df=screener_detailed_df.append(screener_detailed)\n",
    "            screener_profit_df=screener_profit_df.append(screener_profit)\n",
    "            print(\"Done processing for factor: \", factor_name)\n",
    "screener_detailed_df.to_csv('data/GBM_screener_detailed_df_base_all_features_Avg_Q_nifty500_3500.csv')\n",
    "screener_profit_df.to_csv('data/GBM_screener_profit_df_base_all_features_Avg_Q_nifty500_3500.csv')"
   ]
  },
  {
   "cell_type": "code",
   "execution_count": 19,
   "metadata": {},
   "outputs": [],
   "source": [
    "screener_detailed_df1=screener_detailed_df[screener_detailed_df['Sell_Date']>='3/3/2015']\n",
    "Factor_Efficieny=pd.DataFrame()\n",
    "Factor_Efficieny['Profit']=screener_detailed_df1.groupby('Factor_Name')['Profit'].sum()\n",
    "Factor_Efficieny['Profit_Stdev']=screener_detailed_df1.groupby('Factor_Name')['Profit'].std()\n",
    "Factor_Efficieny['Correct_Bets']=screener_detailed_df1.groupby('Factor_Name').apply(lambda x:x[x['Profit']>0]['Profit'].count()/x['Profit'].count())"
   ]
  },
  {
   "cell_type": "code",
   "execution_count": 20,
   "metadata": {},
   "outputs": [
    {
     "data": {
      "text/plain": [
       "array(['2017-09-01T00:00:00.000000000', '2017-09-15T00:00:00.000000000',\n",
       "       '2017-09-29T00:00:00.000000000', '2017-10-16T00:00:00.000000000',\n",
       "       '2017-10-31T00:00:00.000000000', '2017-11-14T00:00:00.000000000',\n",
       "       '2017-11-28T00:00:00.000000000', '2017-12-12T00:00:00.000000000',\n",
       "       '2017-12-27T00:00:00.000000000', '2018-01-10T00:00:00.000000000',\n",
       "       '2018-01-24T00:00:00.000000000', '2018-02-08T00:00:00.000000000',\n",
       "       '2018-02-23T00:00:00.000000000', '2018-03-12T00:00:00.000000000',\n",
       "       '2018-03-26T00:00:00.000000000', '2018-04-11T00:00:00.000000000',\n",
       "       '2018-04-25T00:00:00.000000000', '2018-05-10T00:00:00.000000000',\n",
       "       '2018-05-24T00:00:00.000000000', '2018-06-07T00:00:00.000000000',\n",
       "       '2018-06-21T00:00:00.000000000', '2018-07-05T00:00:00.000000000',\n",
       "       '2018-07-19T00:00:00.000000000', '2018-08-02T00:00:00.000000000',\n",
       "       '2018-08-17T00:00:00.000000000', '2018-09-03T00:00:00.000000000',\n",
       "       '2018-09-18T00:00:00.000000000', '2018-10-04T00:00:00.000000000',\n",
       "       '2018-10-19T00:00:00.000000000', '2018-11-02T00:00:00.000000000',\n",
       "       '2018-11-19T00:00:00.000000000', '2018-12-04T00:00:00.000000000',\n",
       "       '2018-12-18T00:00:00.000000000', '2019-01-02T00:00:00.000000000',\n",
       "       '2019-01-16T00:00:00.000000000', '2019-01-30T00:00:00.000000000',\n",
       "       '2019-02-14T00:00:00.000000000', '2019-02-28T00:00:00.000000000',\n",
       "       '2019-03-15T00:00:00.000000000', '2019-04-02T00:00:00.000000000',\n",
       "       '2019-04-16T00:00:00.000000000', '2019-05-03T00:00:00.000000000',\n",
       "       '2019-05-17T00:00:00.000000000', '2019-05-31T00:00:00.000000000',\n",
       "       '2019-06-17T00:00:00.000000000', '2019-07-01T00:00:00.000000000',\n",
       "       '2019-07-15T00:00:00.000000000', '2019-07-29T00:00:00.000000000',\n",
       "       '2019-08-13T00:00:00.000000000', '2019-08-28T00:00:00.000000000',\n",
       "       '2019-09-13T00:00:00.000000000', '2019-09-27T00:00:00.000000000',\n",
       "       '2019-10-15T00:00:00.000000000', '2019-10-31T00:00:00.000000000',\n",
       "       '2019-11-15T00:00:00.000000000', '2019-11-29T00:00:00.000000000',\n",
       "       '2019-12-13T00:00:00.000000000', '2019-12-30T00:00:00.000000000',\n",
       "       '2020-01-13T00:00:00.000000000', '2020-01-27T00:00:00.000000000',\n",
       "       '2020-02-10T00:00:00.000000000', '2020-02-25T00:00:00.000000000',\n",
       "       '2020-03-11T00:00:00.000000000', '2020-03-25T00:00:00.000000000',\n",
       "       '2020-04-13T00:00:00.000000000', '2020-04-28T00:00:00.000000000',\n",
       "       '2020-05-13T00:00:00.000000000', '2020-05-28T00:00:00.000000000',\n",
       "       '2020-06-11T00:00:00.000000000', '2020-06-25T00:00:00.000000000',\n",
       "       '2020-07-09T00:00:00.000000000', '2020-07-23T00:00:00.000000000',\n",
       "       '2020-08-06T00:00:00.000000000'], dtype='datetime64[ns]')"
      ]
     },
     "execution_count": 20,
     "metadata": {},
     "output_type": "execute_result"
    }
   ],
   "source": [
    "screener_detailed_df['Buy_Date'].unique()"
   ]
  },
  {
   "cell_type": "code",
   "execution_count": 21,
   "metadata": {},
   "outputs": [],
   "source": [
    "f1=screener_detailed_df1.groupby(['Buy_Date','Factor_Name'])['Profit'].sum().reset_index()\n",
    "f1['Rank']=f1.groupby('Buy_Date')['Profit'].rank()\n",
    "f1['Rank'] = pd.qcut(f1['Rank'], 10, labels=False)\n",
    "f1.to_csv('data/GBM_Rank_Factor.csv')"
   ]
  },
  {
   "cell_type": "code",
   "execution_count": 22,
   "metadata": {},
   "outputs": [
    {
     "data": {
      "text/html": [
       "<div>\n",
       "<style scoped>\n",
       "    .dataframe tbody tr th:only-of-type {\n",
       "        vertical-align: middle;\n",
       "    }\n",
       "\n",
       "    .dataframe tbody tr th {\n",
       "        vertical-align: top;\n",
       "    }\n",
       "\n",
       "    .dataframe thead th {\n",
       "        text-align: right;\n",
       "    }\n",
       "</style>\n",
       "<table border=\"1\" class=\"dataframe\">\n",
       "  <thead>\n",
       "    <tr style=\"text-align: right;\">\n",
       "      <th></th>\n",
       "      <th>Profit</th>\n",
       "      <th>Profit_Stdev</th>\n",
       "      <th>Correct_Bets</th>\n",
       "    </tr>\n",
       "    <tr>\n",
       "      <th>Factor_Name</th>\n",
       "      <th></th>\n",
       "      <th></th>\n",
       "      <th></th>\n",
       "    </tr>\n",
       "  </thead>\n",
       "  <tbody>\n",
       "    <tr>\n",
       "      <th>LGBM_Prob_10_0.05</th>\n",
       "      <td>582208.913892</td>\n",
       "      <td>1147.792808</td>\n",
       "      <td>0.841096</td>\n",
       "    </tr>\n",
       "    <tr>\n",
       "      <th>LGBM_Prob_10_0.02</th>\n",
       "      <td>501321.783695</td>\n",
       "      <td>1035.620412</td>\n",
       "      <td>0.858904</td>\n",
       "    </tr>\n",
       "    <tr>\n",
       "      <th>LGBM_Prob_10_0.0</th>\n",
       "      <td>413915.086933</td>\n",
       "      <td>943.496897</td>\n",
       "      <td>0.850685</td>\n",
       "    </tr>\n",
       "    <tr>\n",
       "      <th>Mom_Size_Sales_Std</th>\n",
       "      <td>169936.967641</td>\n",
       "      <td>1548.310345</td>\n",
       "      <td>0.553425</td>\n",
       "    </tr>\n",
       "    <tr>\n",
       "      <th>Mom_Size_Sales_EP</th>\n",
       "      <td>161386.382529</td>\n",
       "      <td>1208.241385</td>\n",
       "      <td>0.554795</td>\n",
       "    </tr>\n",
       "    <tr>\n",
       "      <th>Mom_Std_Sales</th>\n",
       "      <td>161038.811671</td>\n",
       "      <td>1589.483002</td>\n",
       "      <td>0.549315</td>\n",
       "    </tr>\n",
       "    <tr>\n",
       "      <th>Mom_Size_Sales</th>\n",
       "      <td>160226.387436</td>\n",
       "      <td>1196.700146</td>\n",
       "      <td>0.556164</td>\n",
       "    </tr>\n",
       "    <tr>\n",
       "      <th>Size_Sales_Std</th>\n",
       "      <td>131518.057696</td>\n",
       "      <td>1506.488982</td>\n",
       "      <td>0.531507</td>\n",
       "    </tr>\n",
       "    <tr>\n",
       "      <th>Sales_Std</th>\n",
       "      <td>129541.448082</td>\n",
       "      <td>1552.324987</td>\n",
       "      <td>0.529492</td>\n",
       "    </tr>\n",
       "    <tr>\n",
       "      <th>Mom_Std</th>\n",
       "      <td>127024.209677</td>\n",
       "      <td>1496.580741</td>\n",
       "      <td>0.538356</td>\n",
       "    </tr>\n",
       "    <tr>\n",
       "      <th>Sales_Growth</th>\n",
       "      <td>125289.077359</td>\n",
       "      <td>1348.558098</td>\n",
       "      <td>0.514403</td>\n",
       "    </tr>\n",
       "    <tr>\n",
       "      <th>Mom_Size_Std</th>\n",
       "      <td>123243.876481</td>\n",
       "      <td>1476.134112</td>\n",
       "      <td>0.538356</td>\n",
       "    </tr>\n",
       "    <tr>\n",
       "      <th>Mom_Size</th>\n",
       "      <td>112354.233038</td>\n",
       "      <td>1044.220306</td>\n",
       "      <td>0.535616</td>\n",
       "    </tr>\n",
       "    <tr>\n",
       "      <th>StDev</th>\n",
       "      <td>108952.015759</td>\n",
       "      <td>1339.264619</td>\n",
       "      <td>0.536986</td>\n",
       "    </tr>\n",
       "    <tr>\n",
       "      <th>Mom_Std_Sales_OPM</th>\n",
       "      <td>102190.216520</td>\n",
       "      <td>1611.359564</td>\n",
       "      <td>0.521918</td>\n",
       "    </tr>\n",
       "    <tr>\n",
       "      <th>Momentum</th>\n",
       "      <td>96707.194585</td>\n",
       "      <td>1107.241859</td>\n",
       "      <td>0.531507</td>\n",
       "    </tr>\n",
       "    <tr>\n",
       "      <th>Mom_Size_Std_Vol</th>\n",
       "      <td>94419.509596</td>\n",
       "      <td>996.672447</td>\n",
       "      <td>0.526027</td>\n",
       "    </tr>\n",
       "    <tr>\n",
       "      <th>Mom_EP</th>\n",
       "      <td>93247.068545</td>\n",
       "      <td>1120.723563</td>\n",
       "      <td>0.521918</td>\n",
       "    </tr>\n",
       "    <tr>\n",
       "      <th>Mom_Size_EP</th>\n",
       "      <td>92845.574559</td>\n",
       "      <td>1251.509768</td>\n",
       "      <td>0.513699</td>\n",
       "    </tr>\n",
       "    <tr>\n",
       "      <th>Mom_Vol</th>\n",
       "      <td>88245.890336</td>\n",
       "      <td>1121.409291</td>\n",
       "      <td>0.528767</td>\n",
       "    </tr>\n",
       "    <tr>\n",
       "      <th>Mom_Vol_StDev</th>\n",
       "      <td>84636.578772</td>\n",
       "      <td>1052.248501</td>\n",
       "      <td>0.524658</td>\n",
       "    </tr>\n",
       "    <tr>\n",
       "      <th>Mom_Size_OPM</th>\n",
       "      <td>77928.451121</td>\n",
       "      <td>1254.706524</td>\n",
       "      <td>0.508219</td>\n",
       "    </tr>\n",
       "    <tr>\n",
       "      <th>E/P</th>\n",
       "      <td>73222.815172</td>\n",
       "      <td>1205.140743</td>\n",
       "      <td>0.509589</td>\n",
       "    </tr>\n",
       "    <tr>\n",
       "      <th>Volatility</th>\n",
       "      <td>72189.777155</td>\n",
       "      <td>1410.996050</td>\n",
       "      <td>0.508242</td>\n",
       "    </tr>\n",
       "    <tr>\n",
       "      <th>Mom_Size_EPS</th>\n",
       "      <td>57166.721615</td>\n",
       "      <td>1592.666380</td>\n",
       "      <td>0.528767</td>\n",
       "    </tr>\n",
       "    <tr>\n",
       "      <th>Size_Factor</th>\n",
       "      <td>50046.515775</td>\n",
       "      <td>800.112906</td>\n",
       "      <td>0.509589</td>\n",
       "    </tr>\n",
       "    <tr>\n",
       "      <th>EPS_Growth</th>\n",
       "      <td>46018.638305</td>\n",
       "      <td>1622.357023</td>\n",
       "      <td>0.517808</td>\n",
       "    </tr>\n",
       "    <tr>\n",
       "      <th>EPS</th>\n",
       "      <td>40287.509294</td>\n",
       "      <td>1273.743296</td>\n",
       "      <td>0.527397</td>\n",
       "    </tr>\n",
       "    <tr>\n",
       "      <th>OPM_Growth</th>\n",
       "      <td>40199.937660</td>\n",
       "      <td>1332.474699</td>\n",
       "      <td>0.502740</td>\n",
       "    </tr>\n",
       "    <tr>\n",
       "      <th>PES</th>\n",
       "      <td>38138.084690</td>\n",
       "      <td>1582.381131</td>\n",
       "      <td>0.483562</td>\n",
       "    </tr>\n",
       "  </tbody>\n",
       "</table>\n",
       "</div>"
      ],
      "text/plain": [
       "                           Profit  Profit_Stdev  Correct_Bets\n",
       "Factor_Name                                                  \n",
       "LGBM_Prob_10_0.05   582208.913892   1147.792808      0.841096\n",
       "LGBM_Prob_10_0.02   501321.783695   1035.620412      0.858904\n",
       "LGBM_Prob_10_0.0    413915.086933    943.496897      0.850685\n",
       "Mom_Size_Sales_Std  169936.967641   1548.310345      0.553425\n",
       "Mom_Size_Sales_EP   161386.382529   1208.241385      0.554795\n",
       "Mom_Std_Sales       161038.811671   1589.483002      0.549315\n",
       "Mom_Size_Sales      160226.387436   1196.700146      0.556164\n",
       "Size_Sales_Std      131518.057696   1506.488982      0.531507\n",
       "Sales_Std           129541.448082   1552.324987      0.529492\n",
       "Mom_Std             127024.209677   1496.580741      0.538356\n",
       "Sales_Growth        125289.077359   1348.558098      0.514403\n",
       "Mom_Size_Std        123243.876481   1476.134112      0.538356\n",
       "Mom_Size            112354.233038   1044.220306      0.535616\n",
       "StDev               108952.015759   1339.264619      0.536986\n",
       "Mom_Std_Sales_OPM   102190.216520   1611.359564      0.521918\n",
       "Momentum             96707.194585   1107.241859      0.531507\n",
       "Mom_Size_Std_Vol     94419.509596    996.672447      0.526027\n",
       "Mom_EP               93247.068545   1120.723563      0.521918\n",
       "Mom_Size_EP          92845.574559   1251.509768      0.513699\n",
       "Mom_Vol              88245.890336   1121.409291      0.528767\n",
       "Mom_Vol_StDev        84636.578772   1052.248501      0.524658\n",
       "Mom_Size_OPM         77928.451121   1254.706524      0.508219\n",
       "E/P                  73222.815172   1205.140743      0.509589\n",
       "Volatility           72189.777155   1410.996050      0.508242\n",
       "Mom_Size_EPS         57166.721615   1592.666380      0.528767\n",
       "Size_Factor          50046.515775    800.112906      0.509589\n",
       "EPS_Growth           46018.638305   1622.357023      0.517808\n",
       "EPS                  40287.509294   1273.743296      0.527397\n",
       "OPM_Growth           40199.937660   1332.474699      0.502740\n",
       "PES                  38138.084690   1582.381131      0.483562"
      ]
     },
     "execution_count": 22,
     "metadata": {},
     "output_type": "execute_result"
    }
   ],
   "source": [
    "Factor_Efficieny.sort_values(by='Profit', ascending=False)"
   ]
  },
  {
   "cell_type": "code",
   "execution_count": null,
   "metadata": {},
   "outputs": [],
   "source": [
    "Factor_Efficieny=Factor_Efficieny.reset_index()\n",
    "Factor_Efficieny.to_csv('data/GBM_Factor_Efficieny_Date_base_all_features.csv')\n",
    "Factor_Efficieny.head(20)"
   ]
  },
  {
   "cell_type": "code",
   "execution_count": null,
   "metadata": {},
   "outputs": [],
   "source": [
    "Factor_Efficieny.sort_values(by='Profit', ascending=False)"
   ]
  },
  {
   "cell_type": "code",
   "execution_count": null,
   "metadata": {},
   "outputs": [],
   "source": [
    "Factor_Efficieny_Date=pd.DataFrame()\n",
    "Factor_Efficieny_Date['Profit']=screener_detailed_df1.groupby(['Sell_Date','Factor_Name'])['Profit'].sum()\n",
    "Factor_Efficieny_Date['Profit_Stdev']=screener_detailed_df1.groupby(['Sell_Date','Factor_Name'])['Profit'].std()\n",
    "Factor_Efficieny_Date['Profit_Bets']=screener_detailed_df1.groupby(['Sell_Date','Factor_Name']).apply(lambda x:x[x['Profit']>0]['Profit'].count()/x['Profit'].count())\n",
    "Factor_Efficieny['Correct_Bet_50']=Factor_Efficieny_Date.groupby('Factor_Name').apply(lambda x:x[x['Profit_Bets']>0.5]['Profit_Bets'].count()/x['Profit_Bets'].count())\n",
    "Factor_Efficieny.head(20)"
   ]
  },
  {
   "cell_type": "code",
   "execution_count": null,
   "metadata": {},
   "outputs": [],
   "source": [
    "Factor_Efficieny.to_csv('data/GBM_Factor_Efficieny.csv')"
   ]
  },
  {
   "cell_type": "code",
   "execution_count": null,
   "metadata": {},
   "outputs": [],
   "source": [
    "screener_detailed_df1=screener_detailed_df"
   ]
  },
  {
   "cell_type": "code",
   "execution_count": null,
   "metadata": {},
   "outputs": [],
   "source": []
  },
  {
   "cell_type": "code",
   "execution_count": null,
   "metadata": {},
   "outputs": [],
   "source": []
  },
  {
   "cell_type": "code",
   "execution_count": null,
   "metadata": {},
   "outputs": [],
   "source": []
  },
  {
   "cell_type": "code",
   "execution_count": 16,
   "metadata": {},
   "outputs": [
    {
     "data": {
      "image/png": "[encoded data removed]",
      "text/plain": [
       "<Figure size 432x288 with 1 Axes>"
      ]
     },
     "metadata": {},
     "output_type": "display_data"
    },
    {
     "data": {
      "image/png": "[encoded data removed]",
      "text/plain": [
       "<Figure size 432x288 with 1 Axes>"
      ]
     },
     "metadata": {},
     "output_type": "display_data"
    }
   ],
   "source": [
    "investment_amount=150000\n",
    "feature_name_list=[ 'LGBM_Prob_10_0.05',\n",
    "       'LGBM_Prob_10_0.075']\n",
    "for feature_name in feature_name_list:\n",
    "    z1, concat_df7, screener_out = evaluate_Long_Portfolio(concat_df, feature_name, rebalance_period= 1,screen_stock=8)\n",
    "    screener_out=screener_out[['Symbol',feature_name]]\n",
    "    screener_out.reset_index()\n",
    "    screener_out[feature_name]=screener_out.groupby('Date')[feature_name].apply(lambda x:x/sum(x))\n",
    "    #screener_out.to_csv('Momentum_features.csv')\n",
    "    screener=screener_out.merge(concat_df[['Symbol','Date','Adj Close']], how='left', on=(['Date','Symbol']))\n",
    "    screener['Invest_Amount']=screener[feature_name]*investment_amount\n",
    "    screener['Shares']=(screener['Invest_Amount']/screener['Adj Close']).round()\n",
    "    filename=\"data/LGBM_Q_Screener_\"+feature_name+\".csv\"\n",
    "    screener.sort_values(by=['Date'],ascending=False).to_csv(filename)"
   ]
  },
  {
   "cell_type": "code",
   "execution_count": null,
   "metadata": {},
   "outputs": [],
   "source": []
  },
  {
   "cell_type": "code",
   "execution_count": null,
   "metadata": {},
   "outputs": [],
   "source": []
  },
  {
   "cell_type": "code",
   "execution_count": null,
   "metadata": {},
   "outputs": [],
   "source": []
  },
  {
   "cell_type": "code",
   "execution_count": null,
   "metadata": {},
   "outputs": [],
   "source": [
    "def calc_turnover(concat_df):\n",
    "    d1=pd.DataFrame()\n",
    "    concat_df=concat_df.sort_values(by='Date')\n",
    "    d1['Date']=pd.to_datetime(concat_df['Date'].map(lambda t: t.date()).unique().tolist())\n",
    "    d1['Month1']=d1['Date'].map(lambda t: t.date().month).tolist()\n",
    "    d1['Month1']=d1['Month1'].astype(str)\n",
    "    d1['Year']=d1['Date'].map(lambda t: t.date().year).tolist()\n",
    "    d1['Year']=d1['Year'].astype(str)\n",
    "    d1['Month1']=d1['Month1']+\"_\"+d1['Year']\n",
    "    z2=sorted(d1.groupby(\"Month1\").apply(lambda x:x['Date'].max()).tolist())\n",
    "    z3=pd.DataFrame()\n",
    "    z3['Date']=pd.Series(z2)\n",
    "    z3=z3.reset_index()\n",
    "    z3['month_index']=z3['index']+1\n",
    "    concat_df3=concat_df.groupby(\"Date\").apply(lambda x: x.nlargest(15,'Momentum')).droplevel(1)\n",
    "    concat_df3=concat_df3.reset_index(drop=True)\n",
    "    concat_df3['Scaled_Momentum']=concat_df3.groupby('Date')['Momentum'].apply(lambda x: x/x.sum())\n",
    "    concat_old=concat_new=pd.merge(z3,concat_df3, how='left', on=['Date'])\n",
    "    concat_old=concat_old[['month_index','Date','Symbol','Scaled_Momentum']]\n",
    "    concat_old['month_index']=\"count_\"+ concat_old['month_index'].astype(str)\n",
    "    concat_new=concat_new[['month_index','Date','Symbol','Scaled_Momentum']]\n",
    "    concat_new['month_index']=\"count_\"+ (concat_new['month_index']+1).astype(str)\n",
    "    merged_df_turnover=pd.merge(concat_old,concat_new,how='outer',on=['month_index','Symbol'])\n",
    "    merged_df_turnover['Date']=merged_df_turnover.groupby('month_index')['Date_x'].fillna(method='ffill')\n",
    "    merged_df_turnover['Scaled_Momentum_x']=merged_df_turnover.groupby('month_index')['Scaled_Momentum_x'].fillna(0)\n",
    "    merged_df_turnover['Scaled_Momentum_y']=merged_df_turnover.groupby('month_index')['Scaled_Momentum_y'].fillna(0)\n",
    "    merged_df_turnover.columns\n",
    "    merged_df_turnover=merged_df_turnover[['Date','Symbol','Scaled_Momentum_x','Scaled_Momentum_y']]\n",
    "    z4=pd.DataFrame()\n",
    "    z4['Turnover']=merged_df_turnover.groupby('Date').apply(lambda x:np.sum(abs(x['Scaled_Momentum_x']-x['Scaled_Momentum_y'])))\n",
    "    z4['Year']=pd.DatetimeIndex(z4.index).year\n",
    "    z5= z4.groupby('Year').sum()\n",
    "    return z5"
   ]
  },
  {
   "cell_type": "code",
   "execution_count": null,
   "metadata": {},
   "outputs": [],
   "source": [
    "calc_turnover(concat_df[['Mom_Avg']])"
   ]
  },
  {
   "cell_type": "code",
   "execution_count": null,
   "metadata": {},
   "outputs": [],
   "source": [
    "b_screener_detailed_df.groupby('Buy_Date').count().to_csv('bench.csv')"
   ]
  },
  {
   "cell_type": "code",
   "execution_count": null,
   "metadata": {},
   "outputs": [],
   "source": []
  },
  {
   "cell_type": "code",
   "execution_count": null,
   "metadata": {},
   "outputs": [],
   "source": [
    "b_screener_detailed_df1.to_csv('4.csv')"
   ]
  },
  {
   "cell_type": "code",
   "execution_count": null,
   "metadata": {},
   "outputs": [],
   "source": [
    "b_screener_detailed_df.to_csv('2.csv')"
   ]
  },
  {
   "cell_type": "code",
   "execution_count": null,
   "metadata": {},
   "outputs": [],
   "source": [
    "b_screener_detailed_df.head()"
   ]
  },
  {
   "cell_type": "code",
   "execution_count": null,
   "metadata": {},
   "outputs": [],
   "source": [
    "b_screener_detailed_df['Factor_Name'].unique()"
   ]
  },
  {
   "cell_type": "code",
   "execution_count": null,
   "metadata": {},
   "outputs": [],
   "source": [
    "import itertools\n",
    "stuff = [1, 2, 3]\n",
    "for L in range(0, len(stuff)+1):\n",
    "    for subset in itertools.combinations(stuff, L):\n",
    "        print(subset,type(subset))"
   ]
  },
  {
   "cell_type": "code",
   "execution_count": null,
   "metadata": {},
   "outputs": [],
   "source": [
    "z=(1,2,3)"
   ]
  },
  {
   "cell_type": "code",
   "execution_count": null,
   "metadata": {},
   "outputs": [],
   "source": [
    "len(z)"
   ]
  },
  {
   "cell_type": "code",
   "execution_count": null,
   "metadata": {},
   "outputs": [],
   "source": []
  }
 ],
 "metadata": {
  "kernelspec": {
   "display_name": "Python 3",
   "language": "python",
   "name": "python3"
  },
  "language_info": {
   "codemirror_mode": {
    "name": "ipython",
    "version": 3
   },
   "file_extension": ".py",
   "mimetype": "text/x-python",
   "name": "python",
   "nbconvert_exporter": "python",
   "pygments_lexer": "ipython3",
   "version": "3.6.10"
  }
 },
 "nbformat": 4,
 "nbformat_minor": 2
}
